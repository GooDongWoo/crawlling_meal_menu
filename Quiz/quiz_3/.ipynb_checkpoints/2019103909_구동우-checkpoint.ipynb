{
 "cells": [
  {
   "cell_type": "markdown",
   "metadata": {},
   "source": [
    "카카오톡 분석\n",
    "\n",
    "가장 카톡을 많이 한 사람, 대화 수\n",
    "\n",
    "카톡 대화중 카톡을 제일 한번에 제일 많은 줄을 쓴 사람과, 줄의 수\n",
    "\n",
    "카톡을 한 시각들 중 가장 많은 대화가 오간 시각과 횟수\n",
    "\n",
    "ㅅㅂ"
   ]
  },
  {
   "cell_type": "code",
   "execution_count": 2,
   "metadata": {},
   "outputs": [
    {
     "name": "stdout",
     "output_type": "stream",
     "text": [
      "대화파일이름을 확장자포함입력하세요:wp_dataset.txt\n"
     ]
    }
   ],
   "source": [
    "new_list=[]\n",
    "new_str=''\n",
    "junk_str=''\n",
    "file_name=input('대화파일이름을 확장자포함입력하세요:')\n",
    "\n",
    "f=open(file_name,'r',encoding='utf-8')\n",
    "\n",
    "for line in f:\n",
    "    new_list.append(new_str)\n",
    "    if line.startswith('['):\n",
    "        new_str=line\n",
    "        continue\n",
    "    elif line.startswith('-'):\n",
    "        junk_str=line\n",
    "    if (not line.startswith('[')) and (not line.startswith('-')):\n",
    "        new_str+=line\n",
    "    \n",
    "    \n",
    "        \n",
    "\n",
    "f.close()\n"
   ]
  }
 ],
 "metadata": {
  "kernelspec": {
   "display_name": "Python 3",
   "language": "python",
   "name": "python3"
  },
  "language_info": {
   "codemirror_mode": {
    "name": "ipython",
    "version": 3
   },
   "file_extension": ".py",
   "mimetype": "text/x-python",
   "name": "python",
   "nbconvert_exporter": "python",
   "pygments_lexer": "ipython3",
   "version": "3.7.4"
  }
 },
 "nbformat": 4,
 "nbformat_minor": 2
}
