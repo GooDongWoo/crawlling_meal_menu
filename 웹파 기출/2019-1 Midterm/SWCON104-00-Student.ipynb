{
 "cells": [
  {
   "cell_type": "markdown",
   "metadata": {},
   "source": [
    "## Answer sheet for SWCON104-00 Midterm Examonation"
   ]
  },
  {
   "cell_type": "markdown",
   "metadata": {},
   "source": [
    "### WARNING!\n",
    "##### Answer sheet should be submitted as Student-ID.ipynb through KLAS before 14:40"
   ]
  },
  {
   "cell_type": "markdown",
   "metadata": {},
   "source": [
    "### Execute to enter your Name and Student ID"
   ]
  },
  {
   "cell_type": "code",
   "execution_count": null,
   "metadata": {},
   "outputs": [],
   "source": [
    "# Execute when an examination begins.\n",
    "StudentInfo1 = str(input(\"Student ID: \"))\n",
    "StudentInfo2 = str(input(\"Name: \"))\n",
    "\n",
    "# WARNING: Don't remove or modify below lines - Zero score can be given when you ignore.\n",
    "import csv\n",
    "import socket\n",
    "import datetime\n",
    "\n",
    "magicHistory = []\n",
    "magicA = socket.gethostbyname(socket.gethostname())\n",
    "magicB = socket.gethostbyname(socket.getfqdn())\n",
    "dt = datetime.datetime.now()\n",
    "magicStr = \"{}:{}:{}-{}:{}:{}\".format(dt.year, dt.month, dt.day, dt.hour, dt.minute, dt.second)\n",
    "magicHistory.append([magicA, magicB, magicStr])    \n",
    "magicHistory.append([StudentInfo1, StudentInfo2])\n",
    "\n",
    "print(\"Magic Number:\", magicHistory)"
   ]
  },
  {
   "cell_type": "markdown",
   "metadata": {},
   "source": [
    "### Answer for Question.1"
   ]
  },
  {
   "cell_type": "code",
   "execution_count": null,
   "metadata": {},
   "outputs": [],
   "source": [
    "list1 = [1,1,2,3,5,8,13,14,15,16]\n",
    "list2 = [1,1,2,3,4,5,6,7,8,9,10,11,12]\n",
    "\n",
    "# start of function mergeAndSortLists()\n",
    "\n",
    "# end of function mergeAndSortLists()\n",
    "\n",
    "listResult = mergeAndSortLists(list1, list2)"
   ]
  },
  {
   "cell_type": "markdown",
   "metadata": {},
   "source": [
    "##### Self Check for Answer"
   ]
  },
  {
   "cell_type": "code",
   "execution_count": null,
   "metadata": {},
   "outputs": [],
   "source": [
    "list1 = [1,1,2,3,5,8,13,14,15,16]\n",
    "list2 = [1,1,2,3,4,5,6,7,8,9,10,11,12]\n",
    "expectedAnswer1 = [1, 2, 3, 4, 5, 6, 7, 8, 9, 10, 11, 12, 13, 14, 15, 16]\n",
    "listResult = mergeAndSortLists(list1, list2)\n",
    "assert listResult == expectedAnswer1"
   ]
  },
  {
   "cell_type": "markdown",
   "metadata": {},
   "source": [
    "### Answer for Question.2"
   ]
  },
  {
   "cell_type": "code",
   "execution_count": null,
   "metadata": {},
   "outputs": [],
   "source": [
    "import turtle\n",
    "\n",
    "givenLineSize = # request line length from user\n",
    "givenShape = # request shape type from user\n",
    "\n",
    "# start of function drawShape()\n",
    "    \n",
    "# end of function drawShape()\n",
    "\n",
    "givenResult = drawShape(givenLineSize, givenShape)"
   ]
  },
  {
   "cell_type": "markdown",
   "metadata": {},
   "source": [
    "##### Self Check for Answer"
   ]
  },
  {
   "cell_type": "code",
   "execution_count": null,
   "metadata": {},
   "outputs": [],
   "source": [
    "givenResult = drawShape(50, 12)\n",
    "assert givenResult == True"
   ]
  },
  {
   "cell_type": "markdown",
   "metadata": {},
   "source": [
    "### Answer for Question.3"
   ]
  },
  {
   "cell_type": "code",
   "execution_count": null,
   "metadata": {},
   "outputs": [],
   "source": [
    "'''\n",
    "\n",
    "[start of answer in Korean or English]\n",
    "\n",
    "[end of answer]\n",
    "\n",
    "''' "
   ]
  }
 ],
 "metadata": {
  "kernelspec": {
   "display_name": "Python 3",
   "language": "python",
   "name": "python3"
  },
  "language_info": {
   "codemirror_mode": {
    "name": "ipython",
    "version": 3
   },
   "file_extension": ".py",
   "mimetype": "text/x-python",
   "name": "python",
   "nbconvert_exporter": "python",
   "pygments_lexer": "ipython3",
   "version": "3.6.4"
  }
 },
 "nbformat": 4,
 "nbformat_minor": 2
}
