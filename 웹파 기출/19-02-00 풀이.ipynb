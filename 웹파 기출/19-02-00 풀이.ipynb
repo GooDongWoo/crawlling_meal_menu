{
 "cells": [
  {
   "cell_type": "code",
   "execution_count": 69,
   "metadata": {},
   "outputs": [
    {
     "name": "stdout",
     "output_type": "stream",
     "text": [
      "  CBA ED \n",
      " EH  TPA SW\n",
      "B MA DNAL  \n"
     ]
    }
   ],
   "source": [
    "#퀴즈 1\n",
    "def reverse(input_string):\n",
    "    list_1=input_string.split(' ')\n",
    "    newstr=''\n",
    "    for i in range(len(list_1)):\n",
    "        new_elements=list_1[i][::-1]\n",
    "        if i==len(list_1)-1:\n",
    "            newstr+=new_elements\n",
    "        else:\n",
    "            newstr+=new_elements+' '\n",
    "    return newstr\n",
    "        \n",
    "print(reverse('  ABC DE '))\n",
    "print(reverse(' HE  APT WS'))\n",
    "print(reverse('B AM LAND  '))"
   ]
  },
  {
   "cell_type": "code",
   "execution_count": 24,
   "metadata": {},
   "outputs": [
    {
     "name": "stdout",
     "output_type": "stream",
     "text": [
      "{'France': 'Paris', 'Denmark': 'Copenhagen', 'Canada': 'Ottawa', 'New Zealand': 'Wellington', 'Malaysia': 'Kuala Lumpur', 'South Africa': 'Cape Town', 'South Korea': 'Seoul', 'China': 'Beijing', 'Iceland': 'Reykjavik'}\n",
      "Canada Ottawa\n",
      "China Beijing\n",
      "Denmark Copenhagen\n",
      "France Paris\n",
      "Iceland Reykjavik\n",
      "Malaysia Kuala Lumpur\n",
      "New Zealand Wellington\n",
      "South Africa Cape Town\n",
      "South Korea Seoul\n"
     ]
    }
   ],
   "source": [
    "#퀴즈2\n",
    "list_num_1=[]\n",
    "list_num_2=[]\n",
    "\n",
    "def makeDictionary(file_name):\n",
    "    file=open(file_name,'r')\n",
    "    line=file.readline()\n",
    "    line=file.readline()\n",
    "    line=file.readline()\n",
    "    while line!='#Cities\\n':\n",
    "        list_num_1.append(line.strip())\n",
    "        line=file.readline()\n",
    "    line=file.readline()\n",
    "    while line!='':\n",
    "        list_num_2.append(line.strip())\n",
    "        line=file.readline()\n",
    "    dict_1={}\n",
    "    for i in range(len(list_num_1)):\n",
    "        dict_1[list_num_1[i]]=list_num_2[i]\n",
    "    return dict_1\n",
    "\n",
    "print(makeDictionary('cities.txt'))\n",
    "def printByCountry(dict_1):\n",
    "    list_num_2=list(dict_1.keys())\n",
    "    list_num_2.sort()\n",
    "    for i in list_num_2:\n",
    "        print(i,dict_1[i])\n",
    "printByCountry(makeDictionary('cities.txt'))\n"
   ]
  },
  {
   "cell_type": "code",
   "execution_count": 65,
   "metadata": {
    "scrolled": true
   },
   "outputs": [
    {
     "name": "stdout",
     "output_type": "stream",
     "text": [
      "Taxi: 12 km, 17 min, 6000 won\n",
      "Taxi: 21 km, 30 min, 8700 won\n",
      "Bus: 12 km, 40 min, 1400 won\n",
      "Bus: 21 km, 70 min, 2300 won\n"
     ]
    }
   ],
   "source": [
    "#퀴즈 3\n",
    "class Transportation():\n",
    "    dist=0\n",
    "    speed=0\n",
    "    basedist=0\n",
    "    basefare=0\n",
    "    fareperkm=0\n",
    "    def getTime(self):\n",
    "        timing=round(self.dist/self.speed)\n",
    "        return timing\n",
    "    def getFare(self):\n",
    "        if self.dist<=self.basedist:\n",
    "            faring=round(basefare)\n",
    "            return faring\n",
    "        else:\n",
    "            faring=round(self.basefare+(self.dist-self.basedist)*self.fareperkm)\n",
    "            return faring\n",
    "        \n",
    "        \n",
    "    def __str__(self):\n",
    "        name_1='{0} km, {1} min, {2} won'.format(self.dist,self.getTime(),self.getFare())\n",
    "        return name_1\n",
    "    \n",
    "    \n",
    "class Taxi(Transportation):\n",
    "    def __init__(self,distance):\n",
    "        self.dist=distance\n",
    "        self.speed=0.7\n",
    "        self.basedist=2\n",
    "        self.basefare=3000\n",
    "        self.fareperkm=300\n",
    "    def __str__(self):\n",
    "        name_1=super().__str__()\n",
    "        return 'Taxi: '+name_1\n",
    "    \n",
    "class Bus(Transportation):\n",
    "    def __init__(self,distance):\n",
    "        self.dist=distance\n",
    "        self.speed=0.3\n",
    "        self.basedist=10\n",
    "        self.basefare=1200\n",
    "        self.fareperkm=100\n",
    "    def __str__(self):\n",
    "        stat_1=super().__str__()\n",
    "        name_1='{}: {}'.format('Bus',stat_1)\n",
    "        return name_1\n",
    "        \n",
    "t1=Taxi(12)\n",
    "t2=Taxi(21)\n",
    "b1=Bus(12)\n",
    "b2=Bus(21)\n",
    "print(t1)\n",
    "print(t2)\n",
    "print(b1)\n",
    "print(b2)"
   ]
  }
 ],
 "metadata": {
  "kernelspec": {
   "display_name": "Python 3",
   "language": "python",
   "name": "python3"
  },
  "language_info": {
   "codemirror_mode": {
    "name": "ipython",
    "version": 3
   },
   "file_extension": ".py",
   "mimetype": "text/x-python",
   "name": "python",
   "nbconvert_exporter": "python",
   "pygments_lexer": "ipython3",
   "version": "3.7.4"
  }
 },
 "nbformat": 4,
 "nbformat_minor": 2
}
