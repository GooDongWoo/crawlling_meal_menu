{
 "cells": [
  {
   "cell_type": "code",
   "execution_count": 125,
   "metadata": {},
   "outputs": [
    {
     "name": "stdout",
     "output_type": "stream",
     "text": [
      "None\n",
      "1\n"
     ]
    },
    {
     "data": {
      "text/plain": [
       "(-1, -1)"
      ]
     },
     "execution_count": 125,
     "metadata": {},
     "output_type": "execute_result"
    }
   ],
   "source": [
    "import random\n",
    "listValue=[0,1,2]\n",
    "class Player():\n",
    "    def __init__(self,player_ID='noname'):\n",
    "        self.playerID=player_ID\n",
    "    def getId(self):\n",
    "        return self.playerID\n",
    "    def setValue(self,player_value='none'):\n",
    "        if player_value=='none':\n",
    "            self.value=random.randint(0,2)\n",
    "        else:\n",
    "            self.value=player_value\n",
    "        \n",
    "    def getValue(self):\n",
    "        return self.value\n",
    "    \n",
    "a=Player(2019103909)\n",
    "b=Player(2019103999)\n",
    "print(a.setValue())\n",
    "print(a.getValue())\n",
    "class Game():\n",
    "    state=1\n",
    "    def __init__(self,player_1='none',player_2='none',game_session='none'):\n",
    "        if (player_1=='none')or(player_2=='none')or(game_session=='none'):\n",
    "            self.state=0\n",
    "        else:\n",
    "            self.Player1=player_1\n",
    "            self.Player2=player_2\n",
    "            self.session_name=game_session\n",
    "    def runGame(self,player1_val='none',player2_val='none'):\n",
    "        if self.state==0:\n",
    "            return -1,-1\n",
    "        else:\n",
    "            if (player1_val=='none')or(player2_val=='none'):\n",
    "                self.Player1.setValue()\n",
    "                self.Player1_val=self.Player1.getValue()\n",
    "                self.Player2.setValue()\n",
    "                self.Player2_val=self.Player2.getValue()\n",
    "            else:\n",
    "                self.Player1_val=player1_val\n",
    "                self.Player2_val=player2_val\n",
    "            \n",
    "            return self.Player1_val,self.Player2_val\n",
    "    def decideWinner(self):\n",
    "        #이거 중간고사때 햇는데 다시하기 기찬아..\n",
    "        pass\n",
    "    def logGame(self):\n",
    "        if self.state==0:\n",
    "            return False\n",
    "        else:\n",
    "            \n",
    "            self.resultlist=[]\n",
    "\n",
    "\n",
    "Game_1=Game(a)\n",
    "Game_1.runGame()\n",
    "\n",
    "                \n",
    "    "
   ]
  },
  {
   "cell_type": "code",
   "execution_count": 33,
   "metadata": {},
   "outputs": [],
   "source": [
    "a=1\n",
    "a=3\n",
    "a='dasda'\n",
    "a=[1,2,3]"
   ]
  }
 ],
 "metadata": {
  "kernelspec": {
   "display_name": "Python 3",
   "language": "python",
   "name": "python3"
  },
  "language_info": {
   "codemirror_mode": {
    "name": "ipython",
    "version": 3
   },
   "file_extension": ".py",
   "mimetype": "text/x-python",
   "name": "python",
   "nbconvert_exporter": "python",
   "pygments_lexer": "ipython3",
   "version": "3.7.4"
  }
 },
 "nbformat": 4,
 "nbformat_minor": 2
}
