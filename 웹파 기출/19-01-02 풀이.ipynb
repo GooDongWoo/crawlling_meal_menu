{
 "cells": [
  {
   "cell_type": "code",
   "execution_count": 48,
   "metadata": {},
   "outputs": [
    {
     "name": "stdout",
     "output_type": "stream",
     "text": [
      "[1, 1, 1, 1]\n",
      "1111\n"
     ]
    }
   ],
   "source": [
    "import random\n",
    "class Yut():\n",
    "    def __init__(self):\n",
    "        self.state=random.randint(0,1)\n",
    "    def getSide(self):\n",
    "        return self.state\n",
    "    def rollSide(self):\n",
    "        self.state=random.randint(0,1)\n",
    "class Game():\n",
    "    gamestate=1\n",
    "    result_list=[]\n",
    "    def __init__(self,list_1='none',file_name='none'):\n",
    "        if list_1=='none' or file_name=='none':\n",
    "            self.gamestate=0\n",
    "        else:\n",
    "            self.list_name=list_1\n",
    "            self.filename=file_name\n",
    "    def playGame(self):\n",
    "        if self.gamestate==0:\n",
    "            return False\n",
    "        else:\n",
    "            for i in self.list_name:\n",
    "                i.rollSide()\n",
    "                self.result_list.append(i.getSide())\n",
    "    def displayGame(self):\n",
    "        if self.gamestate==0:\n",
    "            return False\n",
    "        else:\n",
    "            for i in self.list_name:\n",
    "                if 0==i.getSide():\n",
    "                    print(0,end='')\n",
    "                else:\n",
    "                    print(1,end='')\n",
    "            print()\n",
    "    def closeLogFile():\n",
    "        file_1=open(self.filename,'w')\n",
    "        file_1.write(self.result_list)\n",
    "        file_1.close()\n",
    "    \n",
    "                \n",
    "                \n",
    "                \n",
    "a=Yut()\n",
    "b=Yut()\n",
    "c=Yut()\n",
    "d=Yut()\n",
    "list_num=[a,b,c,d]\n",
    "game_1=Game(list_num,'hello.txt')\n",
    "game_1.playGame()\n",
    "print(game_1.result_list)\n",
    "game_1.displayGame()"
   ]
  }
 ],
 "metadata": {
  "kernelspec": {
   "display_name": "Python 3",
   "language": "python",
   "name": "python3"
  },
  "language_info": {
   "codemirror_mode": {
    "name": "ipython",
    "version": 3
   },
   "file_extension": ".py",
   "mimetype": "text/x-python",
   "name": "python",
   "nbconvert_exporter": "python",
   "pygments_lexer": "ipython3",
   "version": "3.7.4"
  }
 },
 "nbformat": 4,
 "nbformat_minor": 2
}
