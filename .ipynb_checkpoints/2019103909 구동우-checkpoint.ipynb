{
 "cells": [
  {
   "cell_type": "code",
   "execution_count": null,
   "metadata": {},
   "outputs": [],
   "source": [
    "def Add(a,b):\n",
    "    return a+b\n",
    "def Minus(a,b):\n",
    "    return a-b\n",
    "def Multi(a,b):\n",
    "    return a*b\n",
    "def Divide(a,b):\n",
    "    if b=0:\n",
    "        print('No division by 0')\n",
    "        break\n",
    "    return a/b\n",
    "\n",
    "\n",
    "\n",
    "while True:\n",
    "    \n",
    "    b=input()\n",
    "    if b='exit':\n",
    "        break\n",
    "    b=a.split()\n",
    "    int_1=int(b[0])\n",
    "    int_2=int(b[2])\n",
    "    if b[1]='+':\n",
    "        Add(int_1,int_2)\n",
    "    elif b[1]='-':\n",
    "        Minus(int_1,int_2)\n",
    "    elif b[1]='*':\n",
    "        Multi(int_1,int_2)\n",
    "    elif b[1]='/':\n",
    "        Divide(int_1,int_2)\n",
    "    else:\n",
    "        print('Input format is num1 oper num2')\n",
    "        \n"
   ]
  }
 ],
 "metadata": {
  "kernelspec": {
   "display_name": "Python 3",
   "language": "python",
   "name": "python3"
  },
  "language_info": {
   "codemirror_mode": {
    "name": "ipython",
    "version": 3
   },
   "file_extension": ".py",
   "mimetype": "text/x-python",
   "name": "python",
   "nbconvert_exporter": "python",
   "pygments_lexer": "ipython3",
   "version": "3.7.3"
  }
 },
 "nbformat": 4,
 "nbformat_minor": 2
}
