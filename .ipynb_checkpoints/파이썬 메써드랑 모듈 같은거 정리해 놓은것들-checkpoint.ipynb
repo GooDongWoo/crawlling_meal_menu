{
 "cells": [
  {
   "cell_type": "markdown",
   "metadata": {},
   "source": [
    "## 실수할것들이나 알아두면 좋을 것들"
   ]
  },
  {
   "cell_type": "markdown",
   "metadata": {},
   "source": [
    "이스케이프 문자는 문자열임 그냥 \\n이지랄 하다가는 안됨 '\\n'해야함 원시 포매팅이랑 헷갈림 금지% 기능있는것만 '\\머시기'를 \\를 무시하고 나머지는 포함함\n",
    "\n",
    "프린트 sep=''과 end='\\n'\n",
    "\n",
    "input은 str 타입된다는거 잊지 말자 ㅜ\n",
    "\n",
    "슬라이싱에서 list[::]    ':'이다. 시발 ','랑 헥갈리지 말자 시발\n",
    "\n",
    "함수 정의할때만 지역변수 생김 포문이나 와일 이프문에서 쓰인거 다쓰일수 잇음"
   ]
  },
  {
   "cell_type": "markdown",
   "metadata": {},
   "source": [
    "## boolean 부울대수"
   ]
  },
  {
   "cell_type": "markdown",
   "metadata": {},
   "source": [
    "타입이 새로 있는 것이고 == ><조심\n",
    "not도 조심 not 무조건 부울화"
   ]
  },
  {
   "cell_type": "markdown",
   "metadata": {},
   "source": [
    "# tip\n",
    "이프문이나 포문이나 와일문이나 거기서 : 빼먹지 않기\n",
    "또한 조건이 들어갈 때 부울 대수 값이 리턴되어야 적용됨 참 거짓"
   ]
  },
  {
   "cell_type": "markdown",
   "metadata": {},
   "source": [
    "## 모듈\n",
    "모듈명.메서드() 해야함\n",
    "다시 모듈 가져올 때는\n",
    "\n",
    "import imp\n",
    "\n",
    "imp.reload(모듈명)\n",
    "\n",
    "import 모듈 as 간략히 쓰고싶은 네이밍\n",
    "\n",
    "random에서\n",
    "\n",
    "random()은 0이상 1미만 실수 \n",
    "\n",
    "uniform(1.2)은 1이상 2미만 실수\n",
    "\n",
    "randrange(start,stop,step) 정수\n",
    "\n",
    "\n",
    "randint(start,stop) 이상 이하"
   ]
  },
  {
   "cell_type": "markdown",
   "metadata": {},
   "source": [
    "## <span style=\"color:green\">Str 문자열</span>"
   ]
  },
  {
   "cell_type": "markdown",
   "metadata": {},
   "source": [
    "반복가능한 클래스\n",
    "내장 함수 \n",
    "len() 문자열이나 다른 반복가능한 객체에서 원소 개수 세줌\n",
    "\n",
    "\n",
    "메서드\n",
    "\n",
    ".capitalize() 그냥 리턴값 하나로 첫번째 문자만 대문자화하고 나머지는 소문자화\n",
    "\n",
    ".count('a') 리턴값 하나로 a의 개수 세줌\n",
    "\n",
    ".endswith('end') 이걸로 끝나는가? 불린으로 알려줌\n",
    "\n",
    ".find(what,begin,end) 첫번째로 나오는 거의 인덱스를 찾음 안나오면 -1 어디서부터 할건지 어디까지인지\n",
    "\n",
    ".islower() isupper() 불린으로 답해주고 끝\n",
    "\n",
    ".lower() upper() 그냥 리턴값해주고 끝\n",
    "\n",
    ".lstrip(s) 꼴 양옆이나 사이드에 잇는 s만 제거\n",
    "\n",
    ".swapcase()대문자 소문자 다바꿈\n",
    "\n",
    ".split('a') a로 다 구분해줌\n",
    "\n",
    ".join('abcde') 앞의 문자를 뒤에다가 사이사이에다가 끼워넣음\n",
    "\n",
    "\n",
    "\n"
   ]
  },
  {
   "cell_type": "markdown",
   "metadata": {},
   "source": [
    "# <span style=\"color:red\">포매팅</span>\n",
    "문자열 안에 %d나 %s를 썻는데 요즘에는 문자열 다쓰고 중간에 {}집합짜리 넣고 순서도 쌉가능\n",
    "소수도{땡번째:.소수점 어디까지f}\n",
    "정렬\n",
    "\"{0:<10}\".format(\"hi\")\n",
    "'hi       \n",
    "\n",
    "\"{0:>10}\".format(\"hi\")\n",
    "'        hi'\n",
    "\n",
    " \"{0:^10}\".format(\"hi\")\n",
    "'    hi  \n",
    "\n",
    "공백 채우기 소수점\n",
    "{(몇번째):(요기에 공백을 채우고 싶은 거) <<정렬 연산자 왼쪽<^> (총 몇자리를 배분할건지)   .   (소수점 몇번째까지만 표현할건지)f}\n",
    "\n",
    "{:^10.2f}"
   ]
  },
  {
   "cell_type": "code",
   "execution_count": 5,
   "metadata": {},
   "outputs": [
    {
     "data": {
      "text/plain": [
       "'aaa5.12aaa'"
      ]
     },
     "execution_count": 5,
     "metadata": {},
     "output_type": "execute_result"
    }
   ],
   "source": [
    "'{:a^10.2f}'.format(5.123456789)"
   ]
  },
  {
   "cell_type": "markdown",
   "metadata": {},
   "source": [
    "## List 리스트\n",
    "\n",
    "내장함수들\n",
    "len(L) 리턴 리스트 원소개수\n",
    "\n",
    "max(L) min(L) 리턴 원소 중 가장 큰거 작은거\n",
    "\n",
    "sum(L) 리턴 원소들 다 더한거 원소들이 다 정수나 플롯이여야함\n",
    "\n",
    "sorted(L) 원소들을 정리한 것을 리턴해줌\n",
    "\n",
    "\n",
    "\n",
    "리스트 메서드\n",
    "\n",
    ".append() 리턴으로 끝나는게 아니라 원래 리스트 마지막에 추가하여 수정함\n",
    "\n",
    ".clear() 리턴으로 끝나는게 아니라 원래 리스트 원소 전부 삭제\n",
    "\n",
    ".count() \n",
    "\n",
    ".extend() 리턴으로 끝나는게 아니라 리스트+리스트 \n",
    "\n",
    ".index(what, begin, end) 인덱스 값만 리턴함\n",
    "\n",
    ".insert(index,value) 리턴으로 끝나는게 아니라 진짜 삽입\n",
    "\n",
    ".pop() 마지막 원소를 진짜로 없앰 함수 실행값(리턴)을 마지막 원소로 가짐\n",
    "\n",
    ".remove(s) 첫번째 s를 없앰 진짜루\n",
    "\n",
    ".reverse() 리턴으로 끝나는게 아니라 원래 리스트를 진짜로 앞뒤로 바꿔버림\n",
    "\n",
    ".sort() 진짜루 소팅해버림\n",
    "\n",
    ".sort(reverse=True)\n",
    "\n",
    "********************\n",
    "\n",
    "del List[index]로 제거 가능"
   ]
  },
  {
   "cell_type": "markdown",
   "metadata": {},
   "source": [
    "## 파일 방법\n",
    "open(파일명 ''해야함 글구 파일 이름 + 확장자도 써주어야함,여는 타입 유형)\n",
    "\n",
    "파일=오픈\n",
    "\n",
    "파일.read()걍 전부다 문자열로 읽어버리기 이스케이프도 포함\n",
    "\n",
    "\n",
    "파일.close()항상 중요\n",
    "\n",
    "윈도우에서는 절대주소로 들어갈려면 \\\\으로 전부 처리해야함\n",
    "\n",
    "상대주소는 /으로 이동하며 ../은 상위폴더로 이동\n",
    "\n",
    "관련 모듈로는 \n",
    "os가 있다.\n",
    "import os\n",
    "\n",
    "os.getcwd()   현재 절대주소 반환\n",
    "\n",
    "os.chdir(절대 주소 ''<<--중요)  작업 주소 변경 파일위치 변경이 아님\n",
    "\n",
    "파일.read()  전부 읽어드림\n",
    "\n",
    "파일.readlines()  각각의 줄들을 str로 원소로 저장하여 갖는 리스트 생성한다.\n",
    "\n",
    "파일.readline()   각각의 줄 하나만 가짐 \\n을 기점으로 읽어드림\n",
    "\n",
    "파일.open()에서\n",
    "\n",
    "\n",
    "#### <span style=\"color:red\">******이스케이프 코드도 포함하기 때문에 주의해야함***</span> \n",
    "파일이 포문에 들어가면 각각의 줄들을 반환\n",
    "\n",
    "data.startswith() 헤더 스킵 툴\n",
    "endswith()도 잊지 말구\n"
   ]
  },
  {
   "cell_type": "markdown",
   "metadata": {},
   "source": [
    "## set 집합\n",
    "빈 집합은 {}이 아니다 이건 딕션어리고\n",
    "\n",
    "원하는 집합=set()이 빈집합이다.\n",
    "\n",
    "s=set()\n",
    "\n",
    "s.add(넣을거) 그러면 넣는다.\n",
    "\n",
    "s.clear() 요소 전부 삭제\n",
    "\n",
    "s.difference(다른 집합) 차집합\n",
    "\n",
    "s.intersection(다른집합) 교집합\n",
    "\n",
    "s.issubset()\n",
    "\n",
    "s.issuperset()\n",
    "\n",
    "포함되는 건가? 아닌가?\n",
    "\n",
    "s.remove() 요소 제거\n",
    "\n",
    "s.symmetric_difference(다른 집합) 대칭 차집합\n",
    "\n",
    "s.union(다른 집합) 합집합\n",
    "\n"
   ]
  },
  {
   "cell_type": "markdown",
   "metadata": {},
   "source": [
    "## tuple 튜플\n",
    "() 튜플\n",
    "\n",
    "그냥 ,,해도 튜플로 인식\n",
    "\n"
   ]
  },
  {
   "cell_type": "markdown",
   "metadata": {},
   "source": [
    "## dictionary 딕션어리\n",
    "\n",
    "꼴 \n",
    "\n",
    "딕션어리={'머시기머시기':벨류,'머시기2':벨류2}\n",
    "\n",
    "추가하는 것은 \n",
    "\n",
    "딕션어리[새로운 키]=벨류 넣을거\n",
    "\n",
    "d={}\n",
    "\n",
    "d.clear()  \n",
    "\n",
    "d.get(k,v) 키에 해당하는 거 받고 없으면 v받는다.\n",
    "\n",
    "d.keys()  키들 집합 형태로 받는다.\n",
    "\n",
    "d.items()  벨류만이 아니라 ㅋㅋㅋ (키, 벨류) 쌍으로 묶어준 것들을 집합형태로 묶어준다.\n",
    "\n",
    "d.pop(k,v)  k를 없애고 튀어나오게 하고 없으면 v를 뱉어냄\n",
    "\n",
    "d.setdefault(k,v) k가 있으면 k에 해당하는 벨류를 뱉어내고 k가 없어야만  그 데이터를 v로 저장함.\n",
    "\n",
    "d.values() 벨류들을 뱉어냄\n",
    "\n",
    "d.update(다른 딕션어리)  딕션어리를 추가함"
   ]
  },
  {
   "cell_type": "markdown",
   "metadata": {},
   "source": [
    "# 클라스 Class\n",
    "클래스 선언\n",
    "\n",
    "class 머시기:\n",
    "\n",
    "클래스 내 variable은 class.바리어블 <<<--()없음 주의\n",
    "\n",
    "메서드는 class.메서드()로 소환하고\n",
    "\n",
    "선언은 내에서 데프 메서드(self,변수 시작*):\n",
    "\n",
    "dir()은 내부에 포함된 속성들을 꺼냄 attribute를\n",
    "\n",
    "클래스의 객체 하나를 줄려면\n",
    "\n",
    "a=클래스()\n",
    "\n",
    "a.메서드\n",
    "\n",
    "\n",
    "_ _init_ _(self, 처음에 선언하고 싶은 것들.)\n",
    "\n",
    "은 초기 클래스에서 객체를 하나 또 추가하면 바로 실행되는 것 변수나 이런것들을 초기 값으로 할당해버릴 수가 있음.\n",
    "\n",
    "디폴트 값은 파라미터 값에다가 =로 할당해주면 그 변수가 없으면 그것이 기본값이 됨.\n",
    "\n",
    "_ _str_ _(self) 은 이 함수가 str로 변환될때 어떤 값을 출력하는지\n",
    "\n",
    "오버라이드는 덮어씌우는거고\n",
    "\n",
    "오버로드는 파라미터의 개수가 달라지는 것이다. \n",
    "\n",
    "상속은 \n",
    "\n",
    "class 새로운 클라스(상속받은 조상님 클라스):\n",
    "\n",
    "super().새로운 클라스에서 선언한 variable들\n",
    "\n",
    "super().'=_ _init_ _(바리어블들)\n",
    "\n",
    "조상 메서드나 변수이름 들을 쓸수가 있다. \n",
    "\n"
   ]
  },
  {
   "cell_type": "code",
   "execution_count": 30,
   "metadata": {},
   "outputs": [
    {
     "name": "stdout",
     "output_type": "stream",
     "text": [
      "135\n",
      "47\n",
      "135\n"
     ]
    },
    {
     "data": {
      "text/plain": [
       "14"
      ]
     },
     "execution_count": 30,
     "metadata": {},
     "output_type": "execute_result"
    }
   ],
   "source": [
    "class MyInteger():\n",
    "    logdata=[]\n",
    "    algebralogdata=[]\n",
    "    def __init__(self,input_1=0):\n",
    "        if (type(input_1)!=int) and (type(input_1)!=float) and (type(input_1)!=str) and (not isinstance(input_1,MyInteger)):#마지막에 객체한번 넣어보기\n",
    "            self.value=0\n",
    "            self.init_value=0\n",
    "        elif isinstance(input_1,MyInteger):\n",
    "            self.value=input_1.value\n",
    "            self.init_value=input_1.value\n",
    "        else:\n",
    "            self.value=int(input_1)\n",
    "            self.init_value=int(input_1)\n",
    "\n",
    "    def __eq__(self,other):\n",
    "        if (type(other)==float) or (type(other)==int) or (type(other)==str):\n",
    "            return self.value==int(other)\n",
    "\n",
    "        elif isinstance(other,MyInteger):\n",
    "            return self.value==other.value\n",
    "        else:\n",
    "            return False\n",
    "\n",
    "    def pressAdd(self,input_1):\n",
    "        if isinstance(input_1,MyInteger):\n",
    "            self.Add_1=input_1.value\n",
    "            self.logdata.append(input_1.value)\n",
    "            self.value+=self.Add_1\n",
    "            self.algebralogdata.append('Add')\n",
    "        else:\n",
    "            self.Add_1=int(input_1)\n",
    "            self.logdata.append(self.Add_1)\n",
    "            self.value+=self.Add_1\n",
    "            self.algebralogdata.append('Add')\n",
    "        return self.value\n",
    "\n",
    "\n",
    "    def pressSub(self,input_1):\n",
    "        if isinstance(input_1,MyInteger):\n",
    "            self.Sub_1=input_1.value\n",
    "            self.logdata.append(input_1.value)\n",
    "            self.value-=self.Sub_1\n",
    "            self.algebralogdata.append('Sub')\n",
    "        else:\n",
    "            self.Sub_1=int(input_1)\n",
    "            self.logdata.append(self.Sub_1)\n",
    "            self.value-=self.Sub_1\n",
    "            self.algebralogdata.append('Sub')\n",
    "        return self.value\n",
    "\n",
    "    def getCurrentVariable(self,mode_name='deci'):\n",
    "        if mode_name =='hex':\n",
    "            self.new_name=hex(self.value)\n",
    "        if mode_name =='oct':\n",
    "            self.new_name=oct(self.value)\n",
    "        if mode_name =='bin':\n",
    "            self.new_name=bin(self.value)\n",
    "        if mode_name =='deci':\n",
    "            self.new_name=self.value\n",
    "        return self.new_name\n",
    "    def resetCurrentVariable(self):\n",
    "        self.value=0\n",
    "        self.logdata=[]\n",
    "        self.algebralogdata=[]\n",
    "        return 0\n",
    "\n",
    "    def rollbackCurrentVariable(self):\n",
    "        if self.algebralogdata!=[]:\n",
    "            algebra_1=self.algebralogdata.pop()\n",
    "            log_1=self.logdata.pop()\n",
    "            if algebra_1=='Sub':\n",
    "                self.value+=log_1\n",
    "            else:\n",
    "                self.value-=log_1\n",
    "            return self.value\n",
    "        else:\n",
    "            self.value=self.init_value\n",
    "            return self.value\n",
    "\n",
    "\n",
    "a=MyInteger(12)\n",
    "b=MyInteger(1)\n",
    "a==b\n",
    "a.pressAdd(123)\n",
    "c=MyInteger('14')\n",
    "\n",
    "print(a.value)\n",
    "\n",
    "c.pressAdd(33)\n",
    "print(c.value)\n",
    "print(a.value)\n",
    "c.rollbackCurrentVariable()"
   ]
  },
  {
   "cell_type": "code",
   "execution_count": 31,
   "metadata": {},
   "outputs": [
    {
     "data": {
      "text/plain": [
       "'0b1100100'"
      ]
     },
     "execution_count": 31,
     "metadata": {},
     "output_type": "execute_result"
    }
   ],
   "source": [
    "\n",
    "bin(100)"
   ]
  }
 ],
 "metadata": {
  "kernelspec": {
   "display_name": "Python 3",
   "language": "python",
   "name": "python3"
  },
  "language_info": {
   "codemirror_mode": {
    "name": "ipython",
    "version": 3
   },
   "file_extension": ".py",
   "mimetype": "text/x-python",
   "name": "python",
   "nbconvert_exporter": "python",
   "pygments_lexer": "ipython3",
   "version": "3.7.4"
  }
 },
 "nbformat": 4,
 "nbformat_minor": 2
}
